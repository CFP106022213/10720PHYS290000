{
 "cells": [
  {
   "cell_type": "code",
   "execution_count": 19,
   "metadata": {},
   "outputs": [
    {
     "name": "stdout",
     "output_type": "stream",
     "text": [
      "94 0\n",
      "你的雞雞好小\n"
     ]
    },
    {
     "data": {
      "image/png": "[encoded data removed]",
      "text/plain": [
       "<Figure size 432x288 with 1 Axes>"
      ]
     },
     "metadata": {
      "needs_background": "light"
     },
     "output_type": "display_data"
    }
   ],
   "source": [
    "import numpy as np\n",
    "import matplotlib.pyplot as plt\n",
    "import math\n",
    "import random\n",
    "Vo = 100\n",
    "seta = 0.5\n",
    "g = 9.8\n",
    "a = 2*Vo*math.sin(seta)/g\n",
    "b = 2*Vo*math.sin(seta)/g*Vo*math.cos(seta)\n",
    "t = np.arange(0,a,0.01)\n",
    "x = Vo*(np.cos(seta))*t\n",
    "y = Vo*(np.sin(seta))*t+1/2*(-g)*t**2\n",
    "aa = int(a)\n",
    "bb = int(b)\n",
    "pigx = random.randint(0,bb)\n",
    "pigy = random.randint(0,aa)\n",
    "plt.plot(x,y)  \n",
    "plt.plot(pigx,pigy,\"o\")\n",
    "print(pigx,pigy)\n",
    "tt = pigx/Vo/(math.cos(seta))\n",
    "error = Vo*(math.sin(seta))*tt+1/2*(-g)*tt*2-pigy\n",
    "e = error*error\n",
    "if e < 5:\n",
    "    print(\"你的雞雞好大\")\n",
    "else:\n",
    "    print(\"你的雞雞好小\")\n",
    "    "
   ]
  },
  {
   "cell_type": "code",
   "execution_count": 20,
   "metadata": {},
   "outputs": [],
   "source": [
    "pig = np.random.random()"
   ]
  },
  {
   "cell_type": "code",
   "execution_count": null,
   "metadata": {},
   "outputs": [],
   "source": []
  },
  {
   "cell_type": "code",
   "execution_count": null,
   "metadata": {},
   "outputs": [],
   "source": []
  },
  {
   "cell_type": "code",
   "execution_count": null,
   "metadata": {},
   "outputs": [],
   "source": []
  },
  {
   "cell_type": "code",
   "execution_count": null,
   "metadata": {},
   "outputs": [],
   "source": []
  },
  {
   "cell_type": "code",
   "execution_count": null,
   "metadata": {},
   "outputs": [],
   "source": []
  }
 ],
 "metadata": {
  "kernelspec": {
   "display_name": "Python 3",
   "language": "python",
   "name": "python3"
  },
  "language_info": {
   "codemirror_mode": {
    "name": "ipython",
    "version": 3
   },
   "file_extension": ".py",
   "mimetype": "text/x-python",
   "name": "python",
   "nbconvert_exporter": "python",
   "pygments_lexer": "ipython3",
   "version": "3.7.1"
  }
 },
 "nbformat": 4,
 "nbformat_minor": 2
}
