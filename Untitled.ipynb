{
 "cells": [
  {
   "cell_type": "code",
   "execution_count": 11,
   "metadata": {},
   "outputs": [
    {
     "data": {
      "text/plain": [
       "(array([ 1.,  0.,  0.,  0.,  0.,  0.,  0.,  0.,  0.,  0.,  1.,  0.,  0.,\n",
       "         0.,  0.,  0.,  0.,  0.,  0.,  0.,  0.,  0.,  0.,  0.,  1.,  0.,\n",
       "         0.,  0.,  0.,  0.,  0.,  0.,  0.,  0.,  1.,  0.,  1.,  0.,  0.,\n",
       "         0.,  0.,  0.,  0.,  0.,  0.,  1.,  0.,  0.,  0.,  2.,  0.,  0.,\n",
       "         0.,  1.,  0.,  0.,  0.,  1.,  0.,  0.,  0.,  1.,  0.,  0.,  0.,\n",
       "         0.,  0.,  0.,  0.,  0.,  1.,  0.,  0.,  0.,  0.,  0.,  0.,  1.,\n",
       "         0.,  0.,  0.,  0.,  1.,  1.,  0.,  1.,  0.,  1.,  0.,  0.,  1.,\n",
       "         0.,  1.,  0.,  2.,  1.,  2.,  0.,  0.,  0.,  0.,  0.,  0.,  0.,\n",
       "         0.,  0.,  0.,  0.,  1.,  0.,  1.,  0.,  0.,  1.,  0.,  0.,  1.,\n",
       "         1.,  0.,  0.,  0.,  0.,  2.,  0.,  1.,  1.,  0.,  1.,  2.,  1.,\n",
       "         1.,  2.,  0.,  0.,  1.,  1.,  0.,  0.,  0.,  2.,  0.,  2.,  1.,\n",
       "         1.,  1.,  0.,  1.,  2.,  3.,  4.,  1.,  0.,  0.,  1.,  3.,  2.,\n",
       "         2.,  0.,  0.,  3.,  1.,  0.,  3.,  0.,  3.,  1.,  4.,  2.,  4.,\n",
       "         2.,  2.,  1.,  4.,  0.,  2.,  2.,  1.,  2.,  1.,  4.,  1.,  2.,\n",
       "         0.,  1.,  5.,  5.,  3.,  3.,  2.,  1.,  4.,  3.,  3.,  5.,  2.,\n",
       "         3.,  3.,  3.,  5.,  3.,  5.,  2.,  2.,  4.,  4.,  5.,  2.,  2.,\n",
       "         2.,  2.,  4.,  5.,  4.,  7.,  5.,  8.,  8.,  8.,  2.,  3.,  2.,\n",
       "         5.,  9.,  6.,  6.,  7.,  4.,  2.,  2.,  4.,  6.,  3.,  4.,  9.,\n",
       "         3.,  6.,  8.,  7.,  5., 10.,  8.,  5.,  3.,  4.,  5.,  9.,  5.,\n",
       "         7.,  8.,  3.,  5.,  6.,  4.,  8.,  7.,  7.,  9.,  4.,  6.,  6.,\n",
       "        11.,  8.,  8.,  3.,  5.,  8.,  6., 11.,  8.,  7.,  9.,  8., 13.,\n",
       "         8., 10.,  8.,  7., 11., 10., 14., 12.,  6., 11., 11., 15., 14.,\n",
       "        13.,  4.,  6.,  9., 10.,  9.,  8.,  6., 10., 19.,  6., 15., 11.,\n",
       "        11., 11., 11., 14., 11., 13., 11., 17.,  9., 11., 10., 12., 14.,\n",
       "         9., 14., 17., 13., 18., 13., 13., 17., 10., 11., 14., 14., 12.,\n",
       "        16., 11., 18., 17., 16., 14., 17.,  8., 14., 21.,  8., 19., 18.,\n",
       "        21., 18., 14., 14., 18., 16., 19., 10., 15., 14., 21., 12., 18.,\n",
       "         9., 16., 17., 15., 18., 17., 19., 14., 20., 25., 18., 12., 19.,\n",
       "        19., 22., 20., 18., 14., 20., 15., 20., 15., 19., 18., 20., 13.,\n",
       "        22., 17., 19., 29.,  7., 19., 16., 27., 15., 16., 18., 26., 17.,\n",
       "        31., 26., 23., 16., 17., 21., 18., 28., 18., 19., 30., 28., 17.,\n",
       "        22., 17., 35., 29., 27., 30., 32., 28., 28., 30., 19., 26., 20.,\n",
       "        22., 29., 15., 21., 18., 19., 28., 21., 25., 29., 24., 25., 32.,\n",
       "        18., 22., 34., 18., 19., 22., 24., 23., 27., 20., 23., 23., 25.,\n",
       "        25., 23., 23., 28., 32., 34., 24., 26., 28., 32., 28., 35., 23.,\n",
       "        36., 31., 22., 28., 29., 28., 21., 26., 35., 32., 26., 26., 22.,\n",
       "        27., 29., 32., 32., 31., 31., 24., 17., 35., 23., 21., 26., 19.,\n",
       "        28., 34., 19., 29., 43., 26., 29., 20., 29., 32., 22., 26., 24.,\n",
       "        22., 23., 30., 44., 28., 31., 21., 23., 17., 28., 31., 22., 25.,\n",
       "        29., 23., 32., 38., 34., 30., 20., 29., 20., 22., 25., 19., 34.,\n",
       "        24., 31., 19., 26., 29., 22., 22., 18., 28., 23., 28., 23., 43.,\n",
       "        33., 25., 20., 28., 27., 32., 31., 26., 30., 23., 29., 32., 23.,\n",
       "        26., 30., 25., 30., 29., 21., 22., 22., 29., 23., 30., 26., 19.,\n",
       "        21., 28., 29., 21., 21., 26., 12., 26., 21., 24., 17., 24., 36.,\n",
       "        22., 28., 18., 19., 19., 21., 23., 26., 16., 25., 13., 22., 22.,\n",
       "        23., 33., 21., 18., 25., 15., 29., 16., 23., 14., 18., 19., 22.,\n",
       "        15., 13., 19., 32., 13., 24., 14., 28., 20., 19., 17., 23., 19.,\n",
       "        19., 13., 24., 19., 28., 26., 26., 19., 16., 18., 22., 20., 24.,\n",
       "        23., 14., 22., 25., 27., 15., 17., 23., 15., 25., 20., 20., 21.,\n",
       "        21., 18., 15.,  7., 22., 18., 13., 15., 20., 14., 17., 14., 20.,\n",
       "        17., 16., 15., 13., 14., 15., 18., 21., 11., 13., 16., 24., 11.,\n",
       "        10., 12., 18., 19., 16., 18., 15., 13., 17., 11.,  8., 14., 13.,\n",
       "        13., 16., 17., 14., 15., 10.,  8.,  7., 15.,  7., 10., 10., 13.,\n",
       "        18., 12., 11.,  6.,  6., 11., 16., 12.,  9., 12., 15., 10., 12.,\n",
       "        10., 11., 14.,  8.,  8., 10., 11., 11., 10.,  8.,  8., 11.,  7.,\n",
       "         9., 12., 11.,  9.,  6.,  4., 12.,  6., 10.,  6., 10.,  2.,  7.,\n",
       "        10.,  7.,  8.,  7.,  6.,  2.,  5.,  2., 11.,  7.,  5.,  8., 11.,\n",
       "         6.,  7.,  4.,  9.,  6.,  7.,  7.,  7.,  2., 10.,  6.,  2.,  6.,\n",
       "         3.,  8.,  4.,  6.,  6.,  3.,  2.,  6., 11.,  4.,  7.,  3.,  6.,\n",
       "         6.,  6.,  1.,  8.,  6.,  8.,  3.,  2.,  0.,  7.,  1.,  5.,  2.,\n",
       "         7.,  5.,  4.,  4.,  2.,  5.,  3.,  2.,  7.,  1.,  3.,  2.,  3.,\n",
       "         2.,  4.,  2.,  3.,  5.,  0.,  2.,  2.,  4.,  4.,  2.,  3.,  0.,\n",
       "         4.,  2.,  3.,  2.,  0.,  3.,  2.,  4.,  2.,  1.,  2.,  4.,  1.,\n",
       "         1.,  2.,  0.,  3.,  4.,  3.,  0.,  1.,  1.,  1.,  1.,  3.,  2.,\n",
       "         0.,  2.,  5.,  0.,  2.,  1.,  0.,  0.,  1.,  3.,  1.,  0.,  2.,\n",
       "         1.,  0.,  0.,  1.,  2.,  0.,  1.,  2.,  0.,  3.,  0.,  5.,  2.,\n",
       "         0.,  1.,  3.,  1.,  2.,  0.,  1.,  3.,  2.,  3.,  1.,  3.,  0.,\n",
       "         0.,  2.,  1.,  2.,  1.,  0.,  0.,  0.,  1.,  1.,  0.,  1.,  0.,\n",
       "         2.,  1.,  0.,  1.,  0.,  0.,  0.,  0.,  1.,  0.,  2.,  0.,  0.,\n",
       "         1.,  2.,  0.,  0.,  1.,  0.,  0.,  1.,  0.,  0.,  0.,  1.,  1.,\n",
       "         0.,  0.,  0.,  1.,  0.,  0.,  0.,  1.,  0.,  0.,  0.,  1.,  1.,\n",
       "         0.,  0.,  1.,  1.,  0.,  0.,  1.,  0.,  2.,  0.,  1.,  1.,  0.,\n",
       "         1.,  2.,  0.,  0.,  0.,  0.,  0.,  1.,  0.,  0.,  0.,  0.,  0.,\n",
       "         0.,  0.,  0.,  0.,  0.,  0.,  0.,  0.,  1.,  0.,  0.,  0.,  0.,\n",
       "         0.,  0.,  2.,  0.,  0.,  0.,  0.,  1.,  0.,  1.,  1.,  1.,  1.,\n",
       "         0.,  0.,  0.,  0.,  0.,  0.,  0.,  0.,  0.,  0.,  0.,  0.,  0.,\n",
       "         0.,  0.,  0.,  0.,  0.,  1.,  0.,  0.,  0.,  0.,  0.,  1.]),\n",
       " array([-347.08532263, -346.38247043, -345.67961824, ...,  354.36116619,\n",
       "         355.06401838,  355.76687058]),\n",
       " <a list of 1000 Patch objects>)"
      ]
     },
     "execution_count": 11,
     "metadata": {},
     "output_type": "execute_result"
    },
    {
     "data": {
      "image/png": "[encoded data removed]",
      "text/plain": [
       "<Figure size 432x288 with 1 Axes>"
      ]
     },
     "metadata": {
      "needs_background": "light"
     },
     "output_type": "display_data"
    }
   ],
   "source": [
    "import numpy as np\n",
    "import matplotlib.pyplot as plt\n",
    "mu,sigma=0,100\n",
    "s=np.random.normal(mu,sigma,10000)\n",
    "plt.hist(s,1000)\n",
    "\n"
   ]
  },
  {
   "cell_type": "code",
   "execution_count": 13,
   "metadata": {},
   "outputs": [
    {
     "data": {
      "text/plain": [
       "[<matplotlib.lines.Line2D at 0x1bc682096a0>]"
      ]
     },
     "execution_count": 13,
     "metadata": {},
     "output_type": "execute_result"
    },
    {
     "data": {
      "image/png": "[encoded data removed]",
      "text/plain": [
       "<Figure size 432x288 with 1 Axes>"
      ]
     },
     "metadata": {
      "needs_background": "light"
     },
     "output_type": "display_data"
    }
   ],
   "source": [
    "import numpy as np\n",
    "import matplotlib.pyplot as plt\n",
    "import math\n",
    "h=6.62*10**-34\n",
    "c=3*10**8\n",
    "k=1.38*10**-23\n",
    "\n",
    "v=np.linspace(10**0,10**16,100,endpoint=True)\n",
    "B=2*h*v**3/c**2/(math.e**(h*v/k/5000)-1)\n",
    "dB=np.random.normal(0,10**-9.5,100)\n",
    "B+=dB\n",
    "plt.plot(v,B)\n"
   ]
  },
  {
   "cell_type": "code",
   "execution_count": null,
   "metadata": {},
   "outputs": [],
   "source": []
  },
  {
   "cell_type": "code",
   "execution_count": null,
   "metadata": {},
   "outputs": [],
   "source": []
  },
  {
   "cell_type": "code",
   "execution_count": null,
   "metadata": {},
   "outputs": [],
   "source": []
  },
  {
   "cell_type": "code",
   "execution_count": null,
   "metadata": {},
   "outputs": [],
   "source": []
  }
 ],
 "metadata": {
  "kernelspec": {
   "display_name": "Python 3",
   "language": "python",
   "name": "python3"
  },
  "language_info": {
   "codemirror_mode": {
    "name": "ipython",
    "version": 3
   },
   "file_extension": ".py",
   "mimetype": "text/x-python",
   "name": "python",
   "nbconvert_exporter": "python",
   "pygments_lexer": "ipython3",
   "version": "3.7.1"
  }
 },
 "nbformat": 4,
 "nbformat_minor": 2
}
