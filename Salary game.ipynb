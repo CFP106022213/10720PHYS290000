{
 "cells": [
  {
   "cell_type": "code",
   "execution_count": 2,
   "metadata": {},
   "outputs": [
    {
     "name": "stdout",
     "output_type": "stream",
     "text": [
      "initial money100\n",
      "how many student10\n",
      "round2000\n",
      "可負債?(按1可以)1\n",
      "可負債\n"
     ]
    },
    {
     "ename": "IndexError",
     "evalue": "list index out of range",
     "output_type": "error",
     "traceback": [
      "\u001b[1;31m---------------------------------------------------------------------------\u001b[0m",
      "\u001b[1;31mIndexError\u001b[0m                                Traceback (most recent call last)",
      "\u001b[1;32m<ipython-input-2-d3697c602af1>\u001b[0m in \u001b[0;36m<module>\u001b[1;34m\u001b[0m\n\u001b[0;32m     47\u001b[0m \u001b[1;33m\u001b[0m\u001b[0m\n\u001b[0;32m     48\u001b[0m     \u001b[1;32melif\u001b[0m \u001b[0mresult\u001b[0m \u001b[1;33m==\u001b[0m \u001b[1;36m2\u001b[0m\u001b[1;33m:\u001b[0m\u001b[1;33m\u001b[0m\u001b[1;33m\u001b[0m\u001b[0m\n\u001b[1;32m---> 49\u001b[1;33m         \u001b[0mmoney_win\u001b[0m \u001b[1;33m=\u001b[0m \u001b[0mmoney_array\u001b[0m\u001b[1;33m[\u001b[0m\u001b[0mpeople2_in_game\u001b[0m\u001b[1;33m]\u001b[0m\u001b[1;33m+\u001b[0m\u001b[0mdm\u001b[0m\u001b[1;33m\u001b[0m\u001b[1;33m\u001b[0m\u001b[0m\n\u001b[0m\u001b[0;32m     50\u001b[0m         \u001b[0mmoney_lose\u001b[0m \u001b[1;33m=\u001b[0m \u001b[0mmoney_array\u001b[0m\u001b[1;33m[\u001b[0m\u001b[0mpeople1_in_game\u001b[0m\u001b[1;33m]\u001b[0m \u001b[1;33m-\u001b[0m \u001b[0mdm\u001b[0m\u001b[1;33m\u001b[0m\u001b[1;33m\u001b[0m\u001b[0m\n\u001b[0;32m     51\u001b[0m         \u001b[0mmoney_array\u001b[0m \u001b[1;33m=\u001b[0m \u001b[1;33m[\u001b[0m\u001b[0mpeople2_in_game\u001b[0m\u001b[1;33m]\u001b[0m \u001b[1;33m=\u001b[0m \u001b[0mmoney_win\u001b[0m\u001b[1;33m\u001b[0m\u001b[1;33m\u001b[0m\u001b[0m\n",
      "\u001b[1;31mIndexError\u001b[0m: list index out of range"
     ]
    }
   ],
   "source": [
    "import numpy as np\n",
    "import matplotlib.pyplot as plt\n",
    "\n",
    "m = int(input('initial money'))\n",
    "w = int(input('how many student'))\n",
    "v = int(input('round'))\n",
    "\n",
    "dm = 1  \n",
    "no_money_mode = int(input('可負債?(按1可以)'))\n",
    "if no_money_mode == 1:\n",
    "    print('可負債')\n",
    "money_array = []\n",
    "\n",
    "for i in range(0,w):\n",
    "    num = w\n",
    "    for j in range(0,len(money_array)):\n",
    "        if money_array[j] <= 0:\n",
    "            num -= 1   #people does not bankrupt\n",
    "    \n",
    "    result = np.random.randint(0,3)  \n",
    "    \n",
    "    if no_money_mode == 1:\n",
    "        people1_in_game = np.random.randint(0,w)  \n",
    "        people2_in_game = np.random.randint(0,w)  \n",
    "        \n",
    "        while people2_in_game == people1_in_game:\n",
    "            people2_in_game = np.random.randint(0,w)  \n",
    "    else:\n",
    "        money_array = sorted(money_array,reverse = True)  \n",
    "        \n",
    "        people1_in_game = np.random.randint(0,num)  \n",
    "        people2_in_game = np.random.randint(0,num)  \n",
    "        \n",
    "        while people2_in_game == people1_in_game and num > 1:\n",
    "            people2_in_game = np.random.randint(0,num) \n",
    "            \n",
    "        if num == 1:\n",
    "            print('over')\n",
    "            break\n",
    "    \n",
    "    if result == 1:\n",
    "        money_win = dm + money_array[people1_in_game]\n",
    "        money_lose = money_array[people2_in_game] - dm\n",
    "        \n",
    "        money_array = [people1_in_game] = money_win\n",
    "        money_array = [people2_in_game] = money_lose\n",
    "        \n",
    "    elif result == 2:\n",
    "        money_win = money_array[people2_in_game]+dm\n",
    "        money_lose = money_array[people1_in_game] - dm\n",
    "        money_array = [people2_in_game] = money_win\n",
    "        money_array = [people1_in_game] = money_lose\n",
    "        \n",
    "money_array = sorted(money_array,reverse = True)\n",
    "print(money_array)\n",
    "plt.hist(money_array)\n",
    "plt.show()"
   ]
  },
  {
   "cell_type": "code",
   "execution_count": null,
   "metadata": {},
   "outputs": [],
   "source": []
  },
  {
   "cell_type": "code",
   "execution_count": null,
   "metadata": {},
   "outputs": [],
   "source": []
  }
 ],
 "metadata": {
  "kernelspec": {
   "display_name": "Python 3",
   "language": "python",
   "name": "python3"
  },
  "language_info": {
   "codemirror_mode": {
    "name": "ipython",
    "version": 3
   },
   "file_extension": ".py",
   "mimetype": "text/x-python",
   "name": "python",
   "nbconvert_exporter": "python",
   "pygments_lexer": "ipython3",
   "version": "3.7.1"
  }
 },
 "nbformat": 4,
 "nbformat_minor": 2
}
